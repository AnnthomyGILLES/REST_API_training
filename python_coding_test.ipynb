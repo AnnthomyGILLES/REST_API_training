{
 "cells": [
  {
   "cell_type": "code",
   "execution_count": 1,
   "metadata": {
    "collapsed": true
   },
   "outputs": [],
   "source": [
    "import numpy as np\n",
    "import time\n",
    "import pandas as pd\n",
    "import string\n",
    "import random\n",
    "\n",
    "np.random.seed(12345)"
   ]
  },
  {
   "cell_type": "code",
   "execution_count": 25,
   "metadata": {
    "collapsed": true
   },
   "outputs": [],
   "source": [
    "%load_ext memory_profiler"
   ]
  },
  {
   "cell_type": "markdown",
   "metadata": {},
   "source": [
    "**1) QUESTION**\n",
    "Sort the list below"
   ]
  },
  {
   "cell_type": "code",
   "execution_count": 35,
   "metadata": {
    "collapsed": true
   },
   "outputs": [],
   "source": [
    "nump1 = np.random.randint(0, 10000, 1000000)\n",
    "list1 = list(nump1)"
   ]
  },
  {
   "cell_type": "code",
   "execution_count": null,
   "metadata": {
    "collapsed": false
   },
   "outputs": [],
   "source": [
    "# Sort in-place\n",
    "list1.sort()\n",
    "\n",
    "# Create a new sorted list\n",
    "sorted(list1)\n",
    "\n",
    "# Numpy array (for memory usage and speed)\n",
    "np.sort(nump1)"
   ]
  },
  {
   "cell_type": "markdown",
   "metadata": {},
   "source": [
    "**2) QUESTION**\n",
    "Given the list below of random length, fetch the last 10 elements of the list"
   ]
  },
  {
   "cell_type": "code",
   "execution_count": 20,
   "metadata": {
    "collapsed": true
   },
   "outputs": [],
   "source": [
    "list1 = list(np.random.randint(0, 100, np.random.randint(50,100,1)))"
   ]
  },
  {
   "cell_type": "code",
   "execution_count": 21,
   "metadata": {
    "collapsed": false
   },
   "outputs": [
    {
     "data": {
      "text/plain": [
       "[57, 33, 18, 51, 83, 38, 13, 62, 99, 24]"
      ]
     },
     "execution_count": 21,
     "metadata": {},
     "output_type": "execute_result"
    }
   ],
   "source": [
    "list1[-10:]"
   ]
  },
  {
   "cell_type": "markdown",
   "metadata": {},
   "source": [
    "**3) QUESTION**\n",
    "Given the list below find the indices of those elements greater than 80"
   ]
  },
  {
   "cell_type": "code",
   "execution_count": 61,
   "metadata": {
    "collapsed": false
   },
   "outputs": [],
   "source": [
    "nump1 = np.random.randint(0, 100, 100)\n",
    "list1 = list(nump1)"
   ]
  },
  {
   "cell_type": "code",
   "execution_count": 62,
   "metadata": {
    "collapsed": false
   },
   "outputs": [
    {
     "data": {
      "text/plain": [
       "(array([ 4, 23, 30, 36, 40, 43, 50, 61, 62, 65, 67, 80, 83, 87, 98, 99], dtype=int64),)"
      ]
     },
     "execution_count": 62,
     "metadata": {},
     "output_type": "execute_result"
    }
   ],
   "source": [
    "# List\n",
    "indices = [index for index,value in enumerate(list1) if value > 80]\n",
    "\n",
    "# With numpy array\n",
    "np.where(nump1 > 80)"
   ]
  },
  {
   "cell_type": "markdown",
   "metadata": {},
   "source": [
    "**4) QUESTION**\n",
    "Given the list of strings below sort the list by string length"
   ]
  },
  {
   "cell_type": "code",
   "execution_count": 67,
   "metadata": {
    "collapsed": true
   },
   "outputs": [],
   "source": [
    "list1 = [\"\".join(random.sample(string.ascii_lowercase*10, x)) for x in range(15)]\n",
    "random.shuffle(list1)"
   ]
  },
  {
   "cell_type": "code",
   "execution_count": 68,
   "metadata": {
    "collapsed": false
   },
   "outputs": [
    {
     "data": {
      "text/plain": [
       "['',\n",
       " 'y',\n",
       " 'ez',\n",
       " 'cfl',\n",
       " 'lumt',\n",
       " 'ktuwg',\n",
       " 'ojeptp',\n",
       " 'igmtbae',\n",
       " 'jimdbmwv',\n",
       " 'wlaquqerz',\n",
       " 'upbrbkgecq',\n",
       " 'cevptkvxznk',\n",
       " 'brqlpoeezjpt',\n",
       " 'zciepyuxfaqwg',\n",
       " 'rcpawttnlybghq']"
      ]
     },
     "execution_count": 68,
     "metadata": {},
     "output_type": "execute_result"
    }
   ],
   "source": [
    "# I used key parameter to specify a function to be called on each list element prior to making comparisons\n",
    "sorted(list1, key=len)"
   ]
  },
  {
   "cell_type": "markdown",
   "metadata": {},
   "source": [
    "**5) QUESTION**\n",
    "Given the two lists below find the intersection between both lists"
   ]
  },
  {
   "cell_type": "code",
   "execution_count": 77,
   "metadata": {
    "collapsed": true
   },
   "outputs": [],
   "source": [
    "nump1 = np.random.randint(0, 100, 30)\n",
    "nump2 = np.random.randint(0, 100, 30)\n",
    "list1 = list(nump1)\n",
    "list2 = list(nump2)"
   ]
  },
  {
   "cell_type": "code",
   "execution_count": 79,
   "metadata": {
    "collapsed": false
   },
   "outputs": [
    {
     "data": {
      "text/plain": [
       "{6, 40, 41, 85}"
      ]
     },
     "execution_count": 79,
     "metadata": {},
     "output_type": "execute_result"
    }
   ],
   "source": [
    "# here it's better to use a set to compute math operations like intersection, union, etc\n",
    "set(list1).intersection(list2)\n",
    "\n",
    "# With numpy arrays\n",
    "np.intersect1d(nump1, nump2)"
   ]
  },
  {
   "cell_type": "markdown",
   "metadata": {},
   "source": [
    "**6) QUESTION**\n",
    "Transform the two lists below into a list of tuples"
   ]
  },
  {
   "cell_type": "code",
   "execution_count": 83,
   "metadata": {
    "collapsed": true
   },
   "outputs": [],
   "source": [
    "list1 = list(np.random.randint(0, 100, 10))\n",
    "list2 = list(np.random.randint(0, 100, 10))"
   ]
  },
  {
   "cell_type": "code",
   "execution_count": 84,
   "metadata": {
    "collapsed": false
   },
   "outputs": [
    {
     "data": {
      "text/plain": [
       "[(74, 54),\n",
       " (41, 66),\n",
       " (35, 83),\n",
       " (9, 78),\n",
       " (34, 88),\n",
       " (27, 25),\n",
       " (24, 87),\n",
       " (82, 52),\n",
       " (7, 61),\n",
       " (89, 90)]"
      ]
     },
     "execution_count": 84,
     "metadata": {},
     "output_type": "execute_result"
    }
   ],
   "source": [
    "list(zip(list1, list2))"
   ]
  },
  {
   "cell_type": "markdown",
   "metadata": {},
   "source": [
    "**7) QUESTION**\n",
    "Convert the two lists below into a dictionary where `names` are keys and `numbers` are values"
   ]
  },
  {
   "cell_type": "code",
   "execution_count": 86,
   "metadata": {
    "collapsed": true
   },
   "outputs": [],
   "source": [
    "names = ['One', 'Two', 'Three', 'Four', 'Five']\n",
    "numbers = [1, 2, 3, 4, 5]"
   ]
  },
  {
   "cell_type": "code",
   "execution_count": 90,
   "metadata": {
    "collapsed": false
   },
   "outputs": [
    {
     "data": {
      "text/plain": [
       "{'Five': 5, 'Four': 4, 'One': 1, 'Three': 3, 'Two': 2}"
      ]
     },
     "execution_count": 90,
     "metadata": {},
     "output_type": "execute_result"
    }
   ],
   "source": [
    "# If I use a list comprehension\n",
    "dic = {key:value for key, value in zip(names, numbers)}\n",
    "\n",
    "# Better\n",
    "dict(zip(names, numbers))"
   ]
  },
  {
   "cell_type": "markdown",
   "metadata": {},
   "source": [
    "**8) QUESTION**\n",
    "Given the dictionary below, remove the element with key `One`"
   ]
  },
  {
   "cell_type": "code",
   "execution_count": 91,
   "metadata": {
    "collapsed": true
   },
   "outputs": [],
   "source": [
    "dict1 = {'Four': 4, 'Five': 5, 'Three': 3, 'Two': 2, 'One': 1}"
   ]
  },
  {
   "cell_type": "code",
   "execution_count": 96,
   "metadata": {
    "collapsed": false
   },
   "outputs": [
    {
     "data": {
      "text/plain": [
       "{'Five': 5, 'Four': 4, 'Three': 3, 'Two': 2}"
      ]
     },
     "execution_count": 96,
     "metadata": {},
     "output_type": "execute_result"
    }
   ],
   "source": [
    "dict2 = {key:value for key, value in dict1.items() if key != 'One'}\n",
    "dict2"
   ]
  },
  {
   "cell_type": "markdown",
   "metadata": {},
   "source": [
    "**9) QUESTION**\n",
    "Given the dictionary below, remove all elements with value `1` (do not use the key to do it)"
   ]
  },
  {
   "cell_type": "code",
   "execution_count": 98,
   "metadata": {
    "collapsed": true
   },
   "outputs": [],
   "source": [
    "dict1 = {'Four': 4, 'Five': 5, 'Three': 3, 'Two': 2, 'One': 1, 'Uno':1, 'Un':1, 'Ein':1}"
   ]
  },
  {
   "cell_type": "code",
   "execution_count": 100,
   "metadata": {
    "collapsed": false
   },
   "outputs": [
    {
     "data": {
      "text/plain": [
       "{'Five': 5, 'Four': 4, 'Three': 3, 'Two': 2}"
      ]
     },
     "execution_count": 100,
     "metadata": {},
     "output_type": "execute_result"
    }
   ],
   "source": [
    "dict2 = {key:value for key, value in dict1.items() if value != 1}\n",
    "dict2"
   ]
  },
  {
   "cell_type": "markdown",
   "metadata": {},
   "source": [
    "**10) QUESTION** How would you replace the following with a list comprehension ?"
   ]
  },
  {
   "cell_type": "code",
   "execution_count": 20,
   "metadata": {
    "collapsed": false
   },
   "outputs": [
    {
     "data": {
      "text/plain": [
       "[1, 8, 27, 64, 125, 216, 343, 512, 729, 1000]"
      ]
     },
     "execution_count": 20,
     "metadata": {},
     "output_type": "execute_result"
    }
   ],
   "source": [
    "first_ten_cubes = []\n",
    "for value in range(1, 11):\n",
    "    cube = value*value*value \n",
    "    first_ten_cubes.append(cube) \n",
    "first_ten_cubes"
   ]
  },
  {
   "cell_type": "code",
   "execution_count": 103,
   "metadata": {
    "collapsed": false
   },
   "outputs": [
    {
     "data": {
      "text/plain": [
       "[1, 8, 27, 64, 125, 216, 343, 512, 729, 1000]"
      ]
     },
     "execution_count": 103,
     "metadata": {},
     "output_type": "execute_result"
    }
   ],
   "source": [
    "first_ten_cubes = [pow(i, 3) for i in range(1, 11)]\n",
    "first_ten_cubes"
   ]
  },
  {
   "cell_type": "markdown",
   "metadata": {},
   "source": [
    "**11) QUESTION** How would you sort the following dictionary by values ?"
   ]
  },
  {
   "cell_type": "code",
   "execution_count": 104,
   "metadata": {
    "collapsed": false
   },
   "outputs": [],
   "source": [
    "d = dict(a=1, b=3, c=4, d=2)"
   ]
  },
  {
   "cell_type": "code",
   "execution_count": 110,
   "metadata": {
    "collapsed": false
   },
   "outputs": [
    {
     "data": {
      "text/plain": [
       "[('a', 1), ('d', 2), ('b', 3), ('c', 4)]"
      ]
     },
     "execution_count": 110,
     "metadata": {},
     "output_type": "execute_result"
    }
   ],
   "source": [
    "sorted(d.items(), key=lambda x:x[1])"
   ]
  },
  {
   "cell_type": "markdown",
   "metadata": {},
   "source": [
    "**12) QUESTION** Implement a binary search algorithm returning the index of a given value in a sorted list in a function such as `binary_search([1, 2, 3, 4, 5], 3) = 2`"
   ]
  },
  {
   "cell_type": "code",
   "execution_count": 167,
   "metadata": {
    "collapsed": true
   },
   "outputs": [],
   "source": [
    "def binary_search(liste, item):\n",
    "    \"\"\"Return indice of an item by applying a binary search\"\"\"\n",
    "    \n",
    "    low = 0\n",
    "    high = len(liste) - 1\n",
    "    \n",
    "    guess = 0\n",
    "\n",
    "    while low <= high:\n",
    "        index = int((low + high) / 2)\n",
    "        guess = liste[index]\n",
    "        if item > guess :\n",
    "            low = index + 1\n",
    "        elif item < guess :\n",
    "            high = index - 1\n",
    "        elif item == guess :\n",
    "            return index"
   ]
  },
  {
   "cell_type": "code",
   "execution_count": 170,
   "metadata": {
    "collapsed": false
   },
   "outputs": [
    {
     "data": {
      "text/plain": [
       "0"
      ]
     },
     "execution_count": 170,
     "metadata": {},
     "output_type": "execute_result"
    }
   ],
   "source": [
    "binary_search([1, 2, 3, 4, 5,6,26,89,102], 1)"
   ]
  },
  {
   "cell_type": "markdown",
   "metadata": {},
   "source": [
    "**13) QUESTION** Write a function that determines if a word is a palyndrome (it is read equally forthwards and backwards, eg: Hannah)\n",
    "```\n",
    "is_palyndrome(\"hannah\") -> True\n",
    "is_palyndrome(\"Hannah\") -> True\n",
    "is_palyndrome(\"Montana\") - > False\n",
    "```"
   ]
  },
  {
   "cell_type": "code",
   "execution_count": 122,
   "metadata": {
    "collapsed": true
   },
   "outputs": [],
   "source": [
    "def is_palyndrome(word):\n",
    "    \"\"\"Check if a word is a palyndrome\"\"\"\n",
    "    return word.lower() == word[::-1].lower()"
   ]
  },
  {
   "cell_type": "code",
   "execution_count": 124,
   "metadata": {
    "collapsed": false
   },
   "outputs": [
    {
     "data": {
      "text/plain": [
       "True"
      ]
     },
     "execution_count": 124,
     "metadata": {},
     "output_type": "execute_result"
    }
   ],
   "source": [
    "is_palyndrome(\"Hannah\") "
   ]
  },
  {
   "cell_type": "markdown",
   "metadata": {},
   "source": [
    "14) **QUESTION** Optimise the following code for performance and readability. Comment on the main problems found in the code and implement a more efficient version giving the same results in under 5 seconds. (You can use either Python built-in functions or any other library)"
   ]
  },
  {
   "cell_type": "code",
   "execution_count": 156,
   "metadata": {
    "collapsed": false
   },
   "outputs": [
    {
     "name": "stdout",
     "output_type": "stream",
     "text": [
      "The standard deviation across row averages is 0.002879392870208019\n",
      "The standard deviation across column averages is 0.0028183027121602426\n",
      "The analysis took 134.05800008773804 secs\n"
     ]
    }
   ],
   "source": [
    "matrix = np.random.rand(10000, 10000)\n",
    "n_rows, n_cols = matrix.shape\n",
    "\n",
    "start = time.time()\n",
    "row_averages = []\n",
    "for i in range(n_rows):\n",
    "    row_averages = row_averages + [0]\n",
    "    for j in range(n_cols):\n",
    "        row_averages[i] = row_averages[i] + matrix[i, j]\n",
    "    row_averages[i] = row_averages[i] / n_cols\n",
    "print(\"The standard deviation across row averages is {}\".format(np.std(row_averages)))\n",
    "col_averages = []\n",
    "for j in range(n_cols):\n",
    "    col_averages = col_averages + [0]\n",
    "    for i in range(n_rows):\n",
    "        col_averages[j] = col_averages[j] + matrix[i, j]\n",
    "    col_averages[j] = col_averages[j] / n_rows\n",
    "print(\"The standard deviation across column averages is {}\".format(np.std(col_averages)))\n",
    "end = time.time()\n",
    "print(\"The analysis took {} secs\".format(end-start))"
   ]
  },
  {
   "cell_type": "code",
   "execution_count": 154,
   "metadata": {
    "collapsed": false
   },
   "outputs": [
    {
     "name": "stdout",
     "output_type": "stream",
     "text": [
      "The standard deviation across row averages is 0.0029249752740803723\n",
      "The standard deviation across column averages is 0.0028739010093218015\n",
      "The analysis took 0.2999999523162842 secs\n",
      "Wall time: 2.1 s\n"
     ]
    }
   ],
   "source": [
    "matrix = np.random.rand(10000, 10000)\n",
    "\n",
    "start = time.time()\n",
    "print(\"The standard deviation across row averages is {}\".format(np.std(np.mean(matrix, axis=1))))\n",
    "print(\"The standard deviation across column averages is {}\".format(np.std(np.mean(matrix, axis=0))))\n",
    "end = time.time()\n",
    "print(\"The analysis took {} secs\".format(end-start))"
   ]
  }
 ],
 "metadata": {
  "kernelspec": {
   "display_name": "Python 3",
   "language": "python",
   "name": "python3"
  },
  "language_info": {
   "codemirror_mode": {
    "name": "ipython",
    "version": 3
   },
   "file_extension": ".py",
   "mimetype": "text/x-python",
   "name": "python",
   "nbconvert_exporter": "python",
   "pygments_lexer": "ipython3",
   "version": "3.6.0"
  }
 },
 "nbformat": 4,
 "nbformat_minor": 2
}
